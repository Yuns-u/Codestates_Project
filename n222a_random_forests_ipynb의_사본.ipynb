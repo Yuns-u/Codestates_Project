{
  "nbformat": 4,
  "nbformat_minor": 0,
  "metadata": {
    "kernelspec": {
      "display_name": "Python 3",
      "language": "python",
      "name": "python3"
    },
    "language_info": {
      "codemirror_mode": {
        "name": "ipython",
        "version": 3
      },
      "file_extension": ".py",
      "mimetype": "text/x-python",
      "name": "python",
      "nbconvert_exporter": "python",
      "pygments_lexer": "ipython3",
      "version": "3.7.7"
    },
    "colab": {
      "name": "n222a-random-forests.ipynb의 사본",
      "provenance": [],
      "include_colab_link": true
    }
  },
  "cells": [
    {
      "cell_type": "markdown",
      "metadata": {
        "id": "view-in-github",
        "colab_type": "text"
      },
      "source": [
        "<a href=\"https://colab.research.google.com/github/Yuns-u/Codestates_Project/blob/main/n222a_random_forests_ipynb%EC%9D%98_%EC%82%AC%EB%B3%B8.ipynb\" target=\"_parent\"><img src=\"https://colab.research.google.com/assets/colab-badge.svg\" alt=\"Open In Colab\"/></a>"
      ]
    },
    {
      "cell_type": "markdown",
      "metadata": {
        "id": "XlUDFCc-tzq1"
      },
      "source": [
        "<img align=\"right\" src=\"https://ds-cs-images.s3.ap-northeast-2.amazonaws.com/Codestates_Fulllogo_Color.png\" width=100>\n",
        "\n",
        "## *DATA SCIENCE / SECTION 2 / SPRINT 2 / NOTE 2*\n",
        "\n",
        "# 📝 Assignment\n",
        "---"
      ]
    },
    {
      "cell_type": "markdown",
      "metadata": {
        "id": "7IXUfiQ2UKj6"
      },
      "source": [
        "# 랜덤포레스트(Random Forests)\n",
        "\n",
        "### 1) 캐글 대회를 이어서 진행합니다. EDA, 데이터 전처리 부분을 업데이트 하세요.\n",
        "- EDA는 항상 완벽할 수 없지요 한 주간 계속 같은 데이터로 과제를 진행하므로 부족한 부분을 추가하거나 논하세요.\n",
        "- (지금은 feature engineering에 너무 시간을 들이지 마세요!)\n",
        "- Ordinal Encoding을 적용해 보세요.\n",
        "- **(객관식) 다음 특성들 중에 순서를 고려한 Ordinal Encoding이 필요해 보이는 특성을 선택하고 과제 제출폼에 제출하세요.**\n",
        "    1. opinion_h1n1_vacc_effective\n",
        "    2. state\n",
        "    3. marital\n",
        "    4. employment_occupation\n"
      ]
    },
    {
      "cell_type": "code",
      "metadata": {
        "colab": {
          "base_uri": "https://localhost:8080/"
        },
        "id": "yKDi51QqyLCz",
        "outputId": "be5a4c9f-cecd-4e4a-b0cd-7e327bd512ad"
      },
      "source": [
        "from google.colab import drive\n",
        "drive.mount('/content/drive')"
      ],
      "execution_count": 4,
      "outputs": [
        {
          "output_type": "stream",
          "text": [
            "Mounted at /content/drive\n"
          ],
          "name": "stdout"
        }
      ]
    },
    {
      "cell_type": "code",
      "metadata": {
        "id": "NejSFdUcznQY"
      },
      "source": [
        "import pandas as pd\n",
        "\n",
        "target = 'vacc_h1n1_f'\n",
        "\n",
        "train1 = pd.read_csv('/content/drive/MyDrive/Colab Notebooks/N22X/N221a_dataset/train.csv')\n",
        "train2 = pd.read_csv('/content/drive/MyDrive/Colab Notebooks/N22X/N221a_dataset/train_labels.csv')\n",
        "test = pd.read_csv('/content/drive/MyDrive/Colab Notebooks/N22X/N221a_dataset/test.csv')\n",
        "submission = pd.read_csv('/content/drive/MyDrive/Colab Notebooks/N22X/N221a_dataset/submission.csv')"
      ],
      "execution_count": 35,
      "outputs": []
    },
    {
      "cell_type": "code",
      "metadata": {
        "id": "5sBlDhIV7Ngs"
      },
      "source": [
        "train = pd.merge(train1, train2[target], left_index=True, right_index=True)"
      ],
      "execution_count": 36,
      "outputs": []
    },
    {
      "cell_type": "code",
      "metadata": {
        "colab": {
          "base_uri": "https://localhost:8080/"
        },
        "id": "U86gacvu9qQY",
        "outputId": "8eb83424-51aa-4d94-84ec-945cd338e17e"
      },
      "source": [
        "train.shape\n",
        "#프로파일링이 정말 되지 않는다."
      ],
      "execution_count": 37,
      "outputs": [
        {
          "output_type": "execute_result",
          "data": {
            "text/plain": [
              "(42154, 39)"
            ]
          },
          "metadata": {
            "tags": []
          },
          "execution_count": 37
        }
      ]
    },
    {
      "cell_type": "code",
      "metadata": {
        "colab": {
          "base_uri": "https://localhost:8080/",
          "height": 421
        },
        "id": "IQHBdixCwR39",
        "outputId": "479fdb32-26a1-4b02-a237-7ba64e32f761"
      },
      "source": [
        "train.describe(exclude='number').T.sort_values(by='unique')"
      ],
      "execution_count": 38,
      "outputs": [
        {
          "output_type": "execute_result",
          "data": {
            "text/html": [
              "<div>\n",
              "<style scoped>\n",
              "    .dataframe tbody tr th:only-of-type {\n",
              "        vertical-align: middle;\n",
              "    }\n",
              "\n",
              "    .dataframe tbody tr th {\n",
              "        vertical-align: top;\n",
              "    }\n",
              "\n",
              "    .dataframe thead th {\n",
              "        text-align: right;\n",
              "    }\n",
              "</style>\n",
              "<table border=\"1\" class=\"dataframe\">\n",
              "  <thead>\n",
              "    <tr style=\"text-align: right;\">\n",
              "      <th></th>\n",
              "      <th>count</th>\n",
              "      <th>unique</th>\n",
              "      <th>top</th>\n",
              "      <th>freq</th>\n",
              "    </tr>\n",
              "  </thead>\n",
              "  <tbody>\n",
              "    <tr>\n",
              "      <th>employment_status</th>\n",
              "      <td>31876</td>\n",
              "      <td>3</td>\n",
              "      <td>Employed</td>\n",
              "      <td>17173</td>\n",
              "    </tr>\n",
              "    <tr>\n",
              "      <th>census_msa</th>\n",
              "      <td>42154</td>\n",
              "      <td>3</td>\n",
              "      <td>MSA, Not Principle City</td>\n",
              "      <td>18957</td>\n",
              "    </tr>\n",
              "    <tr>\n",
              "      <th>opinion_h1n1_vacc_effective</th>\n",
              "      <td>33375</td>\n",
              "      <td>6</td>\n",
              "      <td>Somewhat Effective</td>\n",
              "      <td>14729</td>\n",
              "    </tr>\n",
              "    <tr>\n",
              "      <th>opinion_h1n1_risk</th>\n",
              "      <td>33329</td>\n",
              "      <td>6</td>\n",
              "      <td>Somewhat Low</td>\n",
              "      <td>12520</td>\n",
              "    </tr>\n",
              "    <tr>\n",
              "      <th>opinion_h1n1_sick_from_vacc</th>\n",
              "      <td>33285</td>\n",
              "      <td>6</td>\n",
              "      <td>Not Very Worried</td>\n",
              "      <td>11582</td>\n",
              "    </tr>\n",
              "    <tr>\n",
              "      <th>opinion_seas_vacc_effective</th>\n",
              "      <td>33220</td>\n",
              "      <td>6</td>\n",
              "      <td>Somewhat Effective</td>\n",
              "      <td>14543</td>\n",
              "    </tr>\n",
              "    <tr>\n",
              "      <th>opinion_seas_risk</th>\n",
              "      <td>33153</td>\n",
              "      <td>6</td>\n",
              "      <td>Somewhat Low</td>\n",
              "      <td>11397</td>\n",
              "    </tr>\n",
              "    <tr>\n",
              "      <th>opinion_seas_sick_from_vacc</th>\n",
              "      <td>33089</td>\n",
              "      <td>6</td>\n",
              "      <td>Not At All Worried</td>\n",
              "      <td>14749</td>\n",
              "    </tr>\n",
              "    <tr>\n",
              "      <th>agegrp</th>\n",
              "      <td>42154</td>\n",
              "      <td>7</td>\n",
              "      <td>65+ Years</td>\n",
              "      <td>8517</td>\n",
              "    </tr>\n",
              "    <tr>\n",
              "      <th>employment_industry</th>\n",
              "      <td>17165</td>\n",
              "      <td>23</td>\n",
              "      <td>Health Care and Social Assistance Industries</td>\n",
              "      <td>3086</td>\n",
              "    </tr>\n",
              "    <tr>\n",
              "      <th>employment_occupation</th>\n",
              "      <td>17165</td>\n",
              "      <td>25</td>\n",
              "      <td>Management Occupations</td>\n",
              "      <td>2188</td>\n",
              "    </tr>\n",
              "    <tr>\n",
              "      <th>state</th>\n",
              "      <td>42154</td>\n",
              "      <td>51</td>\n",
              "      <td>NEW MEXICO</td>\n",
              "      <td>1017</td>\n",
              "    </tr>\n",
              "  </tbody>\n",
              "</table>\n",
              "</div>"
            ],
            "text/plain": [
              "                             count  ...   freq\n",
              "employment_status            31876  ...  17173\n",
              "census_msa                   42154  ...  18957\n",
              "opinion_h1n1_vacc_effective  33375  ...  14729\n",
              "opinion_h1n1_risk            33329  ...  12520\n",
              "opinion_h1n1_sick_from_vacc  33285  ...  11582\n",
              "opinion_seas_vacc_effective  33220  ...  14543\n",
              "opinion_seas_risk            33153  ...  11397\n",
              "opinion_seas_sick_from_vacc  33089  ...  14749\n",
              "agegrp                       42154  ...   8517\n",
              "employment_industry          17165  ...   3086\n",
              "employment_occupation        17165  ...   2188\n",
              "state                        42154  ...   1017\n",
              "\n",
              "[12 rows x 4 columns]"
            ]
          },
          "metadata": {
            "tags": []
          },
          "execution_count": 38
        }
      ]
    },
    {
      "cell_type": "code",
      "metadata": {
        "colab": {
          "base_uri": "https://localhost:8080/"
        },
        "id": "CoPjv_uvwTgt",
        "outputId": "01529c4f-2d3e-45e8-b792-3e031d90b3ff"
      },
      "source": [
        "train.T.duplicated()"
      ],
      "execution_count": 39,
      "outputs": [
        {
          "output_type": "execute_result",
          "data": {
            "text/plain": [
              "h1n1_concern                   False\n",
              "h1n1_knowledge                 False\n",
              "behavioral_antiviral_meds      False\n",
              "behavioral_avoidance           False\n",
              "behavioral_face_mask           False\n",
              "behavioral_wash_hands          False\n",
              "behavioral_large_gatherings    False\n",
              "behavioral_outside_home        False\n",
              "behavioral_touch_face          False\n",
              "doctor_recc_h1n1               False\n",
              "doctor_recc_seasonal           False\n",
              "chronic_med_condition          False\n",
              "child_under_6_months           False\n",
              "health_insurance               False\n",
              "health_worker                  False\n",
              "opinion_h1n1_vacc_effective    False\n",
              "opinion_h1n1_risk              False\n",
              "opinion_h1n1_sick_from_vacc    False\n",
              "opinion_seas_vacc_effective    False\n",
              "opinion_seas_risk              False\n",
              "opinion_seas_sick_from_vacc    False\n",
              "agegrp                         False\n",
              "education_comp                 False\n",
              "raceeth4_i                     False\n",
              "sex_i                          False\n",
              "inc_pov                        False\n",
              "marital                        False\n",
              "rent_own_r                     False\n",
              "employment_status              False\n",
              "census_region                  False\n",
              "census_msa                     False\n",
              "n_adult_r                      False\n",
              "household_children             False\n",
              "n_people_r                     False\n",
              "employment_industry            False\n",
              "employment_occupation          False\n",
              "hhs_region                     False\n",
              "state                          False\n",
              "vacc_h1n1_f                    False\n",
              "dtype: bool"
            ]
          },
          "metadata": {
            "tags": []
          },
          "execution_count": 39
        }
      ]
    },
    {
      "cell_type": "code",
      "metadata": {
        "id": "ZBKRyzW7wgkv"
      },
      "source": [
        "import numpy as np\n",
        "\n",
        "def engineer(df):\n",
        "    \"\"\"특성을 엔지니어링 하는 함수입니다.\"\"\"\n",
        "    \n",
        "    # 높은 카디널리티를 가지는 특성을 제거합니다.\n",
        "    selected_cols = df.select_dtypes(include=['number', 'object'])\n",
        "    labels = selected_cols.nunique() # 특성별 카디널리티 리스트\n",
        "    selected_features = labels[labels <= 30].index.tolist() # 카디널리티가 30보다 작은 특성만 선택합니다.\n",
        "    df = df[selected_features]\n",
        "    \n",
        "    # 새로운 특성을 생성합니다.\n",
        "    behaviorals = [col for col in df.columns if 'behavioral' in col] \n",
        "    df['behaviorals'] = df[behaviorals].sum(axis=1)\n",
        "    \n",
        "    \n",
        "    dels = [col for col in df.columns if ('employment' in col or 'seas' in col)]\n",
        "    df.drop(columns=dels, inplace=True)\n",
        "        \n",
        "    return df\n",
        "\n",
        "\n",
        "train = engineer(train)\n",
        "val = engineer(val)\n",
        "test = engineer(test)"
      ],
      "execution_count": 40,
      "outputs": []
    },
    {
      "cell_type": "code",
      "metadata": {
        "id": "k7NRoQdjwlqN"
      },
      "source": [
        "# 데이터 분리\n",
        "from sklearn.model_selection import train_test_split\n",
        "\n",
        "train, val = train_test_split(train, train_size=0.80, test_size=0.20, \n",
        "                              stratify=train[target], random_state=2)"
      ],
      "execution_count": 41,
      "outputs": []
    },
    {
      "cell_type": "code",
      "metadata": {
        "id": "8wsS6Ko9z8eU"
      },
      "source": [
        "#타겟과 특성 분리하기\n",
        "features = train.drop(columns=[target]).columns\n",
        "\n",
        "X_train = train[features]\n",
        "X_val = val[features]\n",
        "X_test = test[features]\n",
        "\n",
        "y_train = train[target]\n",
        "y_val = val[target]"
      ],
      "execution_count": 42,
      "outputs": []
    },
    {
      "cell_type": "markdown",
      "metadata": {
        "id": "lwtqhvgKtzq5"
      },
      "source": [
        "### 2) 랜덤포레스트 모델을 적용한 후의 결과를 캐글에 제출하세요.\n",
        "- 랜덤포레스트를 적용하고 성능이 오히려 떨어졌을 수도 있습니다! 만약 그렇다면 이유를 본인 논리로 분석해 보세요.\n",
        "- **캐글 Leaderboard의 본인 Score를 과제 제출폼에 제출하세요.**"
      ]
    },
    {
      "cell_type": "code",
      "metadata": {
        "colab": {
          "base_uri": "https://localhost:8080/"
        },
        "id": "cUF9msX-1h-A",
        "outputId": "62c43815-a6a5-4bb3-e4ea-748a7c892bd9"
      },
      "source": [
        "!pip install category_encoders"
      ],
      "execution_count": 45,
      "outputs": [
        {
          "output_type": "stream",
          "text": [
            "Collecting category_encoders\n",
            "  Downloading category_encoders-2.2.2-py2.py3-none-any.whl (80 kB)\n",
            "\u001b[?25l\r\u001b[K     |████                            | 10 kB 19.3 MB/s eta 0:00:01\r\u001b[K     |████████▏                       | 20 kB 22.5 MB/s eta 0:00:01\r\u001b[K     |████████████▏                   | 30 kB 16.1 MB/s eta 0:00:01\r\u001b[K     |████████████████▎               | 40 kB 12.2 MB/s eta 0:00:01\r\u001b[K     |████████████████████▎           | 51 kB 5.7 MB/s eta 0:00:01\r\u001b[K     |████████████████████████▍       | 61 kB 6.0 MB/s eta 0:00:01\r\u001b[K     |████████████████████████████▍   | 71 kB 5.6 MB/s eta 0:00:01\r\u001b[K     |████████████████████████████████| 80 kB 3.8 MB/s \n",
            "\u001b[?25hRequirement already satisfied: statsmodels>=0.9.0 in /usr/local/lib/python3.7/dist-packages (from category_encoders) (0.10.2)\n",
            "Requirement already satisfied: patsy>=0.5.1 in /usr/local/lib/python3.7/dist-packages (from category_encoders) (0.5.1)\n",
            "Requirement already satisfied: numpy>=1.14.0 in /usr/local/lib/python3.7/dist-packages (from category_encoders) (1.19.5)\n",
            "Requirement already satisfied: scikit-learn>=0.20.0 in /usr/local/lib/python3.7/dist-packages (from category_encoders) (0.22.2.post1)\n",
            "Requirement already satisfied: scipy>=1.0.0 in /usr/local/lib/python3.7/dist-packages (from category_encoders) (1.7.1)\n",
            "Requirement already satisfied: pandas>=0.21.1 in /usr/local/lib/python3.7/dist-packages (from category_encoders) (1.1.5)\n",
            "Requirement already satisfied: python-dateutil>=2.7.3 in /usr/local/lib/python3.7/dist-packages (from pandas>=0.21.1->category_encoders) (2.8.2)\n",
            "Requirement already satisfied: pytz>=2017.2 in /usr/local/lib/python3.7/dist-packages (from pandas>=0.21.1->category_encoders) (2018.9)\n",
            "Requirement already satisfied: six in /usr/local/lib/python3.7/dist-packages (from patsy>=0.5.1->category_encoders) (1.15.0)\n",
            "Requirement already satisfied: joblib>=0.11 in /usr/local/lib/python3.7/dist-packages (from scikit-learn>=0.20.0->category_encoders) (1.0.1)\n",
            "Installing collected packages: category-encoders\n",
            "Successfully installed category-encoders-2.2.2\n"
          ],
          "name": "stdout"
        }
      ]
    },
    {
      "cell_type": "code",
      "metadata": {
        "id": "1EBD14Frtzq5",
        "colab": {
          "base_uri": "https://localhost:8080/"
        },
        "outputId": "b9831d51-af54-4979-a1c7-6926eb53bd67"
      },
      "source": [
        "%%time\n",
        "from category_encoders import OneHotEncoder\n",
        "from sklearn.ensemble import RandomForestClassifier\n",
        "from sklearn.impute import SimpleImputer \n",
        "from sklearn.pipeline import make_pipeline\n",
        "\n",
        "pipe = make_pipeline(\n",
        "    OneHotEncoder(use_cat_names=True), \n",
        "    SimpleImputer(), \n",
        "    RandomForestClassifier(n_jobs=-1, random_state=10, oob_score=True)\n",
        ")\n",
        "\n",
        "pipe.fit(X_train, y_train)\n",
        "print('검증 정확도: ', pipe.score(X_val, y_val))"
      ],
      "execution_count": 46,
      "outputs": [
        {
          "output_type": "stream",
          "text": [
            "/usr/local/lib/python3.7/dist-packages/statsmodels/tools/_testing.py:19: FutureWarning: pandas.util.testing is deprecated. Use the functions in the public API at pandas.testing instead.\n",
            "  import pandas.util.testing as tm\n",
            "/usr/local/lib/python3.7/dist-packages/category_encoders/utils.py:21: FutureWarning: is_categorical is deprecated and will be removed in a future version.  Use is_categorical_dtype instead\n",
            "  elif pd.api.types.is_categorical(cols):\n"
          ],
          "name": "stderr"
        },
        {
          "output_type": "stream",
          "text": [
            "검증 정확도:  0.8270667773692326\n",
            "CPU times: user 9.85 s, sys: 259 ms, total: 10.1 s\n",
            "Wall time: 6.45 s\n"
          ],
          "name": "stdout"
        }
      ]
    },
    {
      "cell_type": "markdown",
      "metadata": {
        "id": "FItQvX9wtzq5"
      },
      "source": [
        "## 🔥 도전과제"
      ]
    },
    {
      "cell_type": "markdown",
      "metadata": {
        "id": "fNChc4wPtzq6"
      },
      "source": [
        "### 3) 수업에 사용하지 않은 다른 종류의 [category_encoders](http://contrib.scikit-learn.org/category_encoders/)을 적용해 보고 인코더에 대해 설명하세요\n"
      ]
    },
    {
      "cell_type": "code",
      "metadata": {
        "id": "Z_cvNKhDtzq7"
      },
      "source": [
        "### 이곳에서 과제를 진행해 주세요 ###"
      ],
      "execution_count": null,
      "outputs": []
    },
    {
      "cell_type": "markdown",
      "metadata": {
        "id": "EcYBATgftzq7"
      },
      "source": [
        "## 참고자료\n",
        "\n",
        "- [Random Forests for Complete Beginners](https://victorzhou.com/blog/intro-to-random-forests/)"
      ]
    }
  ]
}